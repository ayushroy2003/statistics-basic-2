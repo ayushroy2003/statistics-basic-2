{
 "cells": [
  {
   "cell_type": "markdown",
   "id": "9f74bd8f-e523-46ec-9967-b43f8532c7ef",
   "metadata": {},
   "source": [
    "Q1. What are the three measures of central tendency?\n",
    "\n",
    "Ans- \n",
    "Three measures of central tendency are mean , median ,mode \n",
    "\n",
    "Mean - The average calculated the summing the values and divided by no. of observation\n",
    "\n",
    "Median - the middle value in sorted data set or the average of two middle values for even sized set.\n",
    "\n",
    "Mode - the value appear more frequently in dataset "
   ]
  },
  {
   "cell_type": "markdown",
   "id": "baa03323-fbf8-4a45-85df-3f1a978993ed",
   "metadata": {},
   "source": [
    "Q2. What is the difference between the mean, median, and mode? How are they used to measure the\n",
    "central tendency of a dataset?\n",
    "\n",
    "Ans- \n",
    "Difference - \n",
    "\n",
    "Mean- \n",
    "- Calculation: Average of all the values \n",
    "- Sensitive to outliers: Affected by extreme values\n",
    "- Use: Provide a balance of all data points\n",
    "\n",
    "Median\n",
    "- Calculation: Middle value data is sorted \n",
    "- Robust to  outliers: not greatly influenced by extreme values \n",
    "- Use: Represents the central position ,especially in skewed distributions\n",
    "\n",
    "Mode \n",
    "- Calculation: Most frequently occuring value \n",
    "- Robustness: Can be identified even in non-numeric data\n",
    "- Use:highlights the most common value(s)\n",
    "\n",
    "USAGE\n",
    "\n",
    "Mean\n",
    "\n",
    "- Suitable For symmetric Distributions\n",
    "- Can be affected by outliers\n",
    "- Commonly used in statistical analysis\n",
    "\n",
    "Median\n",
    "\n",
    "- Appropriate for skewed distributions\n",
    "- Not Heavily influenced by extreme values\n",
    "- Useful when the exact values matters less than the order \n",
    "\n",
    "Mode\n",
    "\n",
    "- Useful for categorical data and discrete distribuition \n",
    "- Identifies the most prevalent values \n",
    "- May not exit or be unique in some datasets"
   ]
  },
  {
   "cell_type": "markdown",
   "id": "f70b7c06-93b8-452a-a3b0-596d08d8cc46",
   "metadata": {},
   "source": [
    "Q3. Measure the three measures of central tendency for the given height data:\n",
    "\n",
    "[178,177,176,177,178.2,178,175,179,180,175,178.9,176.2,177,172.5,178,176.5]\n",
    "\n",
    "ANS- \n"
   ]
  },
  {
   "cell_type": "code",
   "execution_count": 4,
   "id": "6f8f2574-197c-4713-8c63-609efdf5dfc1",
   "metadata": {},
   "outputs": [],
   "source": [
    "import numpy as np\n",
    "import statistics"
   ]
  },
  {
   "cell_type": "code",
   "execution_count": 5,
   "id": "ebbb91eb-361f-4ea5-b689-973d50ca6109",
   "metadata": {},
   "outputs": [
    {
     "name": "stdout",
     "output_type": "stream",
     "text": [
      "mean of the data 177.01875\n",
      "median of the data 177.0\n",
      "mode of the data 178\n"
     ]
    }
   ],
   "source": [
    "x = [178,177,176,177,178.2,178,175,179,180,175,178.9,176.2,177,172.5,178,176.5]\n",
    "\n",
    "print(\"mean of the data\", np.mean(x))\n",
    "print(\"median of the data\" , np.median(x))\n",
    "print(\"mode of the data\" , statistics.mode(x))"
   ]
  },
  {
   "cell_type": "markdown",
   "id": "8c85c008-8e25-496b-a6c5-7e8b0b6d6527",
   "metadata": {},
   "source": [
    "Q4. Find the standard deviation for the given data:\n",
    "\n",
    "[178,177,176,177,178.2,178,175,179,180,175,178.9,176.2,177,172.5,178,176.5]\n"
   ]
  },
  {
   "cell_type": "code",
   "execution_count": 6,
   "id": "a03798be-4c54-40fe-99b9-6288ebab4d7f",
   "metadata": {},
   "outputs": [
    {
     "name": "stdout",
     "output_type": "stream",
     "text": [
      "standard deviation of given data 1.7885814036548633\n"
     ]
    }
   ],
   "source": [
    "y = [178,177,176,177,178.2,178,175,179,180,175,178.9,176.2,177,172.5,178,176.5]\n",
    "\n",
    "print(\"standard deviation of given data\", np.std(y))"
   ]
  },
  {
   "cell_type": "markdown",
   "id": "3fd0be8b-ee92-4158-9cb7-3b294fed14aa",
   "metadata": {},
   "source": [
    "Q5. How are measures of dispersion such as range, variance, and standard deviation used to describe\n",
    "the spread of a dataset? Provide an example.\n",
    "\n",
    "Ans- Measure of dispersion such as range.variance,and standard deviation are used to describe spread of dataset by provideing information about it about how far datapoints are from the center of distribution\n",
    "\n",
    "Range - \n",
    "- Defination - The difference between the maximum and minimum values in dataset \n",
    "- Use : Provide a simple measure of the spread but sensitive to outliers\n",
    "\n",
    "Variance - \n",
    "- Defination: The average of the squared Difference from the mean\n",
    "- USe: Quantifies the overall variability ; larger variance indicates greater spread \n",
    "\n",
    "Standard Deviation \n",
    "\n",
    "- Defination : It is square root of variance. it is measure of average distance of the data points from the mean, It tells how much varition is there in dataset  \n",
    "\n",
    "- Use : Provide a measure of dispersion in the original units; easier to interpet than variance \n",
    "\n",
    "\n",
    "Example \n",
    "\n",
    "student_a = [86,59,90]\n",
    "student_b = [11,31,32]\n",
    "\n",
    "Range- \n",
    "for student_a  = 90-59 = 31\n",
    "for student_b = 32-11 = 21\n",
    "\n",
    "\n",
    "Variance \n",
    "\n",
    "for student_a = 280.33\n",
    "for student_b = 80.67\n",
    "\n",
    "\n",
    "Standard Deviation \n",
    "\n",
    "\n",
    "for student_a = 16.76\n",
    "for student_b = 8.98\n",
    "\n",
    "\n",
    "interpretation\n",
    "Range: Student A has wider range , indicating more variability \n",
    "\n",
    "Variance/Standard Deviation: Student A has a higer variance and standard deviation  , overall greater spread or dispersion in scores "
   ]
  },
  {
   "cell_type": "markdown",
   "id": "5c16226d-0b8a-4e13-99bd-db2c43304924",
   "metadata": {},
   "source": [
    "Q6. What is a Venn diagram?\n",
    "\n",
    "\n",
    "Ans- \n",
    "venn diagram are widely used in various fields including mathematics , logic statistics and problem solving to visually organize information and aid in understanding the relationship between different sets. they are helplful tool for comparing and contasting different group of categories \n",
    "\n"
   ]
  },
  {
   "cell_type": "markdown",
   "id": "92fee4e1-e7fd-4dd7-a4e2-e9f692fac2f8",
   "metadata": {},
   "source": [
    "Q7. For the two given sets A = (2,3,4,5,6,7) & B = (0,2,6,8,10). Find:\n",
    "\n",
    "(i) A B\n",
    "\n",
    "(ii) A B\n",
    "\n",
    "(i) answer - [2,6]\n",
    "(ii) answer - [0,2,6,3,4,5,7,8,10]\n"
   ]
  },
  {
   "cell_type": "markdown",
   "id": "b572e773-be7e-4e67-86b8-48c982780c6c",
   "metadata": {},
   "source": [
    "Q8. What do you understand about skewness in data?\n",
    "\n",
    "Ans- skewness is a statistical measure that describrs the asymmetry of a probability distribution . in other words it indicates the extent and direction of skew \n",
    "\n",
    "there are three type of skew\n",
    "\n",
    "- positive skewness(right_skewed) means a longer right tail \n",
    "- Negative skewness(left-skewed) means a longer left tail\n",
    "- zero skewness indicates a symmetric distribution\n",
    "\n"
   ]
  },
  {
   "cell_type": "markdown",
   "id": "818ec515-f3d9-4a5d-8a4b-07dcc2cc2df2",
   "metadata": {},
   "source": [
    "Q9. If a data is right skewed then what will be the position of median with respect to mean?\n",
    "\n",
    "Ans- \n",
    "mean is typically greater than the median in a right-skewed dataset"
   ]
  },
  {
   "cell_type": "markdown",
   "id": "6d364b1a-e5ea-4136-ae39-a9beaf769d48",
   "metadata": {},
   "source": [
    "Q10. Explain the difference between covariance and correlation. How are these measures used in\n",
    "statistical analysis?\n",
    "\n",
    "Ans- \n",
    "\n",
    "Covariance \n",
    "- Covariance measures how two variable change together .it indicates whether whether an increase in one variable corresponds to an increase or decrease in another \n",
    "\n",
    "- covariance is not standarized  scale , making it challenging to interpet the strength of relationship \n",
    "\n",
    "Correlation\n",
    "- correlation is standarized measure of linear relationship between two variable \n",
    "\n",
    "- standarizes the measure association between two variable by scaling the covariance. it ranges from -1 to 1 provideing a more interpretable measures of the strength and direction of the relationship "
   ]
  },
  {
   "cell_type": "markdown",
   "id": "4443a6a7-de74-4943-8527-4003f0c059ba",
   "metadata": {},
   "source": [
    "Q11. What is the formula for calculating the sample mean? Provide an example calculation for a\n",
    "dataset.\n",
    "\n",
    "Ans- $ \\bar{X} = \\frac{\\sum_{i=1}^{n} X_i}{n} $\n",
    "\n",
    "Example - \n",
    "\n",
    "Dataset - [10,15,20,25,30]\n",
    "\n",
    "$\n",
    "\\bar{X} = \\frac{10 + 15 + 20 + 25 + 30}{5} = \\frac{100}{5} = 20\n",
    "$\n"
   ]
  },
  {
   "cell_type": "markdown",
   "id": "128ad60c-c1a1-4bde-977a-23342f8c85ac",
   "metadata": {},
   "source": [
    "Q12. For a normal distribution data what is the relationship between its measure of central tendency?\n",
    "\n",
    "Ans- In a norlmal distribution the mean median and mode are all equal and located at the center of the distribution . the distribution is symmetric making the mean and median the same  "
   ]
  },
  {
   "cell_type": "markdown",
   "id": "6fd55671-42cd-4c05-9f03-bb2e6f2a6650",
   "metadata": {},
   "source": [
    "Q13. How is covariance different from correlation?\n",
    "\n",
    "Ans - cavarianve is not standarized and the value can be from negative infinity to positive infinity  not iterpet accuretly but where as correaltion is standarized the value from -1 to 1 , -1 indiacte a perfect negative linear relationship, 1 indicate a perfect positive linear relationship and 0 no linear relationship "
   ]
  },
  {
   "cell_type": "markdown",
   "id": "8d678dd1-113b-4bdc-bf11-4ab6313f7ea2",
   "metadata": {},
   "source": [
    "Q14. How do outliers affect measures of central tendency and dispersion? Provide an example\n",
    "\n",
    "Ans- outliers can heavily empact measure of central tendency particularly the mean , pulling it towards extreme values \n",
    "Dispersion measure  like the standard devitation  can be influenced increasing due to outliers\n",
    "\n",
    "Example\n",
    "\n",
    "Dataset = [10,20,30,35,22,300]\n",
    "\n",
    "the presence of outliers \"300\" can significantly impact the measures \n",
    "\n",
    "- Mean - (10+20+30+35+22+300)/6 = 69.5 (here impacted by outliers)\n",
    "- Median - The middle values 32.5 (not impacted by the outliers )\n",
    "- standard deviation - incresed due to the higly value outliers"
   ]
  },
  {
   "cell_type": "code",
   "execution_count": null,
   "id": "b377aa56-fbf3-4cf7-973b-148c940f4327",
   "metadata": {},
   "outputs": [],
   "source": []
  }
 ],
 "metadata": {
  "kernelspec": {
   "display_name": "Python 3 (ipykernel)",
   "language": "python",
   "name": "python3"
  },
  "language_info": {
   "codemirror_mode": {
    "name": "ipython",
    "version": 3
   },
   "file_extension": ".py",
   "mimetype": "text/x-python",
   "name": "python",
   "nbconvert_exporter": "python",
   "pygments_lexer": "ipython3",
   "version": "3.10.8"
  }
 },
 "nbformat": 4,
 "nbformat_minor": 5
}
